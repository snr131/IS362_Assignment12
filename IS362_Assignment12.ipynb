{
 "cells": [
  {
   "cell_type": "markdown",
   "metadata": {
    "id": "A6QFzKZQnbuS"
   },
   "source": [
    "# Prompt\n",
    "\n",
    "**Very often, we’re tasked with taking data in one form and transforming it for easier downstream analysis. In this assignment, you’ll use what you’ve learned in the course to prepare data for predictive analysis in Project 4. A famous—if slightly moldy—dataset about mushrooms can be found in the UCI repository \n",
    "here: https://archive.ics.uci.edu/ml/datasets/Mushroom. The fact that this is such a well-known dataset in the data science community has made it a good dataset to use for comparative benchmarking. For example, if someone was working to build a better decision tree algorithm (or other predictive classifier) to analyze categorical data, this dataset could be useful. In Project 4, we’ll use scikit-learn to answer the question, “Which other attribute or attributes are the best predictors of whether a particular mushroom is poisonous or edible?”**"
   ]
  },
  {
   "cell_type": "code",
   "execution_count": 2,
   "metadata": {
    "id": "QnP_bD-cp-t-"
   },
   "outputs": [],
   "source": [
    "# import libraries\n",
    "import pandas as pd\n",
    "from sklearn.preprocessing import LabelEncoder\n",
    "import matplotlib.pyplot as plt\n",
    "import seaborn as sns\n",
    "%matplotlib inline"
   ]
  },
  {
   "cell_type": "code",
   "execution_count": 3,
   "metadata": {
    "id": "24iMcuHSRCnF"
   },
   "outputs": [],
   "source": [
    "pd.options.mode.chained_assignment = None"
   ]
  },
  {
   "cell_type": "markdown",
   "metadata": {
    "id": "NngiePMVm_60"
   },
   "source": [
    "# 1\n",
    "\n",
    "**First study the dataset and the associated description of the data (i.e. “data dictionary”). You may need to look around a bit, but it’s there!**"
   ]
  },
  {
   "cell_type": "markdown",
   "metadata": {
    "id": "yAZE5y4HqDea"
   },
   "source": [
    "In the data dictionary, there are descriptions of 22 attributes. There is so simple or obvious correlation between any of these attributes to determine edibility."
   ]
  },
  {
   "cell_type": "markdown",
   "metadata": {
    "id": "DJCK5X1xscaM"
   },
   "source": [
    "# 2\n",
    "**Create a pandas DataFrame with a subset of the columns in the dataset. You should include the column that indicates edible or poisonous, the column that includes odor, and at least one other column of your choosing.** "
   ]
  },
  {
   "cell_type": "code",
   "execution_count": 4,
   "metadata": {
    "id": "89SOq7o-r7ts"
   },
   "outputs": [],
   "source": [
    "df = pd.read_csv('https://archive.ics.uci.edu/ml/machine-learning-databases/mushroom/agaricus-lepiota.data')"
   ]
  },
  {
   "cell_type": "code",
   "execution_count": 5,
   "metadata": {
    "colab": {
     "base_uri": "https://localhost:8080/"
    },
    "id": "PImbFq_0sFDl",
    "outputId": "e142c33b-86fb-4220-de3f-30daf60b4f8c"
   },
   "outputs": [
    {
     "name": "stdout",
     "output_type": "stream",
     "text": [
      "<class 'pandas.core.frame.DataFrame'>\n",
      "RangeIndex: 8123 entries, 0 to 8122\n",
      "Data columns (total 23 columns):\n",
      " #   Column  Non-Null Count  Dtype \n",
      "---  ------  --------------  ----- \n",
      " 0   p       8123 non-null   object\n",
      " 1   x       8123 non-null   object\n",
      " 2   s       8123 non-null   object\n",
      " 3   n       8123 non-null   object\n",
      " 4   t       8123 non-null   object\n",
      " 5   p.1     8123 non-null   object\n",
      " 6   f       8123 non-null   object\n",
      " 7   c       8123 non-null   object\n",
      " 8   n.1     8123 non-null   object\n",
      " 9   k       8123 non-null   object\n",
      " 10  e       8123 non-null   object\n",
      " 11  e.1     8123 non-null   object\n",
      " 12  s.1     8123 non-null   object\n",
      " 13  s.2     8123 non-null   object\n",
      " 14  w       8123 non-null   object\n",
      " 15  w.1     8123 non-null   object\n",
      " 16  p.2     8123 non-null   object\n",
      " 17  w.2     8123 non-null   object\n",
      " 18  o       8123 non-null   object\n",
      " 19  p.3     8123 non-null   object\n",
      " 20  k.1     8123 non-null   object\n",
      " 21  s.3     8123 non-null   object\n",
      " 22  u       8123 non-null   object\n",
      "dtypes: object(23)\n",
      "memory usage: 1.4+ MB\n"
     ]
    }
   ],
   "source": [
    "df.info() "
   ]
  },
  {
   "cell_type": "markdown",
   "metadata": {
    "id": "OTcf_fizojWP"
   },
   "source": [
    "# 3 \n",
    "\n",
    "**Add meaningful names for each column.**"
   ]
  },
  {
   "cell_type": "markdown",
   "metadata": {
    "id": "p3N5MrjXn4JA"
   },
   "source": [
    "The existing column names aren't meaningful. I'm renaming the columns according to what I found in the data dictionary."
   ]
  },
  {
   "cell_type": "code",
   "execution_count": 6,
   "metadata": {
    "id": "AOlf-1oJr3kC"
   },
   "outputs": [],
   "source": [
    "df.columns = ['poisonous', 'cap-shape', 'cap-surface', 'cap-color', 'bruises','odor', 'gill-attachment', 'gill-spacing', 'gill-size', 'gill-color', 'stalk-shape', 'stalk-root', \n",
    "              'stalk-surface-above-ring', 'stalk-surface-below-ring', 'stalk-color-above-ring', 'stalk-color-below-ring', 'veil-type', 'veil-color', 'ring-number', 'ring-type',\n",
    "              'spore-print-color', 'population', 'habitat']"
   ]
  },
  {
   "cell_type": "markdown",
   "metadata": {
    "id": "F3xROyAQptAg"
   },
   "source": [
    "In addition to the poisonous and odor columns, I am including cap-shape, cap-surface, cap-color, and gill-color."
   ]
  },
  {
   "cell_type": "code",
   "execution_count": 7,
   "metadata": {
    "id": "-hcXjH4ttwQX"
   },
   "outputs": [],
   "source": [
    "subset = df[['poisonous', 'cap-shape', 'cap-surface', 'cap-color','odor', 'gill-color']]"
   ]
  },
  {
   "cell_type": "code",
   "execution_count": 8,
   "metadata": {
    "colab": {
     "base_uri": "https://localhost:8080/",
     "height": 402
    },
    "id": "dVYlpU0os7-a",
    "outputId": "43deec2c-4ed3-4829-efd1-3a1571fe48bb"
   },
   "outputs": [
    {
     "data": {
      "text/html": [
       "<div>\n",
       "<style scoped>\n",
       "    .dataframe tbody tr th:only-of-type {\n",
       "        vertical-align: middle;\n",
       "    }\n",
       "\n",
       "    .dataframe tbody tr th {\n",
       "        vertical-align: top;\n",
       "    }\n",
       "\n",
       "    .dataframe thead th {\n",
       "        text-align: right;\n",
       "    }\n",
       "</style>\n",
       "<table border=\"1\" class=\"dataframe\">\n",
       "  <thead>\n",
       "    <tr style=\"text-align: right;\">\n",
       "      <th></th>\n",
       "      <th>poisonous</th>\n",
       "      <th>cap-shape</th>\n",
       "      <th>cap-surface</th>\n",
       "      <th>cap-color</th>\n",
       "      <th>odor</th>\n",
       "      <th>gill-color</th>\n",
       "    </tr>\n",
       "  </thead>\n",
       "  <tbody>\n",
       "    <tr>\n",
       "      <th>0</th>\n",
       "      <td>e</td>\n",
       "      <td>x</td>\n",
       "      <td>s</td>\n",
       "      <td>y</td>\n",
       "      <td>a</td>\n",
       "      <td>k</td>\n",
       "    </tr>\n",
       "    <tr>\n",
       "      <th>1</th>\n",
       "      <td>e</td>\n",
       "      <td>b</td>\n",
       "      <td>s</td>\n",
       "      <td>w</td>\n",
       "      <td>l</td>\n",
       "      <td>n</td>\n",
       "    </tr>\n",
       "    <tr>\n",
       "      <th>2</th>\n",
       "      <td>p</td>\n",
       "      <td>x</td>\n",
       "      <td>y</td>\n",
       "      <td>w</td>\n",
       "      <td>p</td>\n",
       "      <td>n</td>\n",
       "    </tr>\n",
       "    <tr>\n",
       "      <th>3</th>\n",
       "      <td>e</td>\n",
       "      <td>x</td>\n",
       "      <td>s</td>\n",
       "      <td>g</td>\n",
       "      <td>n</td>\n",
       "      <td>k</td>\n",
       "    </tr>\n",
       "    <tr>\n",
       "      <th>4</th>\n",
       "      <td>e</td>\n",
       "      <td>x</td>\n",
       "      <td>y</td>\n",
       "      <td>y</td>\n",
       "      <td>a</td>\n",
       "      <td>n</td>\n",
       "    </tr>\n",
       "    <tr>\n",
       "      <th>...</th>\n",
       "      <td>...</td>\n",
       "      <td>...</td>\n",
       "      <td>...</td>\n",
       "      <td>...</td>\n",
       "      <td>...</td>\n",
       "      <td>...</td>\n",
       "    </tr>\n",
       "    <tr>\n",
       "      <th>8118</th>\n",
       "      <td>e</td>\n",
       "      <td>k</td>\n",
       "      <td>s</td>\n",
       "      <td>n</td>\n",
       "      <td>n</td>\n",
       "      <td>y</td>\n",
       "    </tr>\n",
       "    <tr>\n",
       "      <th>8119</th>\n",
       "      <td>e</td>\n",
       "      <td>x</td>\n",
       "      <td>s</td>\n",
       "      <td>n</td>\n",
       "      <td>n</td>\n",
       "      <td>y</td>\n",
       "    </tr>\n",
       "    <tr>\n",
       "      <th>8120</th>\n",
       "      <td>e</td>\n",
       "      <td>f</td>\n",
       "      <td>s</td>\n",
       "      <td>n</td>\n",
       "      <td>n</td>\n",
       "      <td>n</td>\n",
       "    </tr>\n",
       "    <tr>\n",
       "      <th>8121</th>\n",
       "      <td>p</td>\n",
       "      <td>k</td>\n",
       "      <td>y</td>\n",
       "      <td>n</td>\n",
       "      <td>y</td>\n",
       "      <td>b</td>\n",
       "    </tr>\n",
       "    <tr>\n",
       "      <th>8122</th>\n",
       "      <td>e</td>\n",
       "      <td>x</td>\n",
       "      <td>s</td>\n",
       "      <td>n</td>\n",
       "      <td>n</td>\n",
       "      <td>y</td>\n",
       "    </tr>\n",
       "  </tbody>\n",
       "</table>\n",
       "<p>8123 rows × 6 columns</p>\n",
       "</div>"
      ],
      "text/plain": [
       "     poisonous cap-shape cap-surface cap-color odor gill-color\n",
       "0            e         x           s         y    a          k\n",
       "1            e         b           s         w    l          n\n",
       "2            p         x           y         w    p          n\n",
       "3            e         x           s         g    n          k\n",
       "4            e         x           y         y    a          n\n",
       "...        ...       ...         ...       ...  ...        ...\n",
       "8118         e         k           s         n    n          y\n",
       "8119         e         x           s         n    n          y\n",
       "8120         e         f           s         n    n          n\n",
       "8121         p         k           y         n    y          b\n",
       "8122         e         x           s         n    n          y\n",
       "\n",
       "[8123 rows x 6 columns]"
      ]
     },
     "execution_count": 8,
     "metadata": {},
     "output_type": "execute_result"
    }
   ],
   "source": [
    "subset"
   ]
  },
  {
   "cell_type": "code",
   "execution_count": 9,
   "metadata": {
    "colab": {
     "base_uri": "https://localhost:8080/"
    },
    "id": "iLnzX1-Wb7xW",
    "outputId": "7ad467b7-dbf3-4332-e488-b63b14d612b7"
   },
   "outputs": [
    {
     "data": {
      "text/plain": [
       "poisonous      0\n",
       "cap-shape      0\n",
       "cap-surface    0\n",
       "cap-color      0\n",
       "odor           0\n",
       "gill-color     0\n",
       "dtype: int64"
      ]
     },
     "execution_count": 9,
     "metadata": {},
     "output_type": "execute_result"
    }
   ],
   "source": [
    "subset.isnull().sum()"
   ]
  },
  {
   "cell_type": "markdown",
   "metadata": {
    "id": "nkQ46nUGoQsA"
   },
   "source": [
    "There are no null values in this subset. I will replace the codes with the corresponding values found in the data dictionary."
   ]
  },
  {
   "cell_type": "code",
   "execution_count": 10,
   "metadata": {
    "id": "XiDze533Osz3"
   },
   "outputs": [],
   "source": [
    "subset['poisonous'] = subset['poisonous'].replace(['e','p'],['edible','poisonous'])\n",
    "subset['cap-shape'] = subset['cap-shape'].replace(['b','c', 'x', 'f', 'k', 's'],['bell', 'conical', 'convex', 'flat', 'knobbed', 'sunken'])\n",
    "subset['cap-surface'] = subset['cap-surface'].replace(['f','g', 'y', 's'],['fibrous', 'grooves', 'scaly', 'smooth'])\n",
    "subset['cap-color'] = subset['cap-color'].replace(['n','b', 'c', 'g', 'r', 'p', 'u', 'e', 'w', 'y'],['brown', 'buff', 'cinnamon', 'gray', 'green', 'pink', 'purple', 'red', \n",
    "                                                                                                     'white', 'yellow'])\n",
    "subset['odor'] = subset['odor'].replace(['a','l', 'c', 'y', 'f', 'm', 'n', 'p', 's'],['almond', 'anise', 'creosote', 'fishy','foul', 'musty','none','pungent','spicy'])\n",
    "subset['gill-color'] = subset['gill-color'].replace(['k','n', 'b', 'h', 'g', 'r', 'o', 'p', 'u', 'e', 'w', 'y'],['black', 'brown', 'buff', 'chocolate', 'gray', 'green', 'orange',\n",
    "                                                                                                                 'pink', 'purple', 'red', 'white', 'yellow'])"
   ]
  },
  {
   "cell_type": "code",
   "execution_count": 11,
   "metadata": {
    "colab": {
     "base_uri": "https://localhost:8080/",
     "height": 402
    },
    "id": "7zLR4ixwPlgd",
    "outputId": "b3abe4d0-b44b-48ea-bf44-cba6b6563fd0"
   },
   "outputs": [
    {
     "data": {
      "text/html": [
       "<div>\n",
       "<style scoped>\n",
       "    .dataframe tbody tr th:only-of-type {\n",
       "        vertical-align: middle;\n",
       "    }\n",
       "\n",
       "    .dataframe tbody tr th {\n",
       "        vertical-align: top;\n",
       "    }\n",
       "\n",
       "    .dataframe thead th {\n",
       "        text-align: right;\n",
       "    }\n",
       "</style>\n",
       "<table border=\"1\" class=\"dataframe\">\n",
       "  <thead>\n",
       "    <tr style=\"text-align: right;\">\n",
       "      <th></th>\n",
       "      <th>poisonous</th>\n",
       "      <th>cap-shape</th>\n",
       "      <th>cap-surface</th>\n",
       "      <th>cap-color</th>\n",
       "      <th>odor</th>\n",
       "      <th>gill-color</th>\n",
       "    </tr>\n",
       "  </thead>\n",
       "  <tbody>\n",
       "    <tr>\n",
       "      <th>0</th>\n",
       "      <td>edible</td>\n",
       "      <td>convex</td>\n",
       "      <td>smooth</td>\n",
       "      <td>yellow</td>\n",
       "      <td>almond</td>\n",
       "      <td>black</td>\n",
       "    </tr>\n",
       "    <tr>\n",
       "      <th>1</th>\n",
       "      <td>edible</td>\n",
       "      <td>bell</td>\n",
       "      <td>smooth</td>\n",
       "      <td>white</td>\n",
       "      <td>anise</td>\n",
       "      <td>brown</td>\n",
       "    </tr>\n",
       "    <tr>\n",
       "      <th>2</th>\n",
       "      <td>poisonous</td>\n",
       "      <td>convex</td>\n",
       "      <td>scaly</td>\n",
       "      <td>white</td>\n",
       "      <td>pungent</td>\n",
       "      <td>brown</td>\n",
       "    </tr>\n",
       "    <tr>\n",
       "      <th>3</th>\n",
       "      <td>edible</td>\n",
       "      <td>convex</td>\n",
       "      <td>smooth</td>\n",
       "      <td>gray</td>\n",
       "      <td>none</td>\n",
       "      <td>black</td>\n",
       "    </tr>\n",
       "    <tr>\n",
       "      <th>4</th>\n",
       "      <td>edible</td>\n",
       "      <td>convex</td>\n",
       "      <td>scaly</td>\n",
       "      <td>yellow</td>\n",
       "      <td>almond</td>\n",
       "      <td>brown</td>\n",
       "    </tr>\n",
       "    <tr>\n",
       "      <th>...</th>\n",
       "      <td>...</td>\n",
       "      <td>...</td>\n",
       "      <td>...</td>\n",
       "      <td>...</td>\n",
       "      <td>...</td>\n",
       "      <td>...</td>\n",
       "    </tr>\n",
       "    <tr>\n",
       "      <th>8118</th>\n",
       "      <td>edible</td>\n",
       "      <td>knobbed</td>\n",
       "      <td>smooth</td>\n",
       "      <td>brown</td>\n",
       "      <td>none</td>\n",
       "      <td>yellow</td>\n",
       "    </tr>\n",
       "    <tr>\n",
       "      <th>8119</th>\n",
       "      <td>edible</td>\n",
       "      <td>convex</td>\n",
       "      <td>smooth</td>\n",
       "      <td>brown</td>\n",
       "      <td>none</td>\n",
       "      <td>yellow</td>\n",
       "    </tr>\n",
       "    <tr>\n",
       "      <th>8120</th>\n",
       "      <td>edible</td>\n",
       "      <td>flat</td>\n",
       "      <td>smooth</td>\n",
       "      <td>brown</td>\n",
       "      <td>none</td>\n",
       "      <td>brown</td>\n",
       "    </tr>\n",
       "    <tr>\n",
       "      <th>8121</th>\n",
       "      <td>poisonous</td>\n",
       "      <td>knobbed</td>\n",
       "      <td>scaly</td>\n",
       "      <td>brown</td>\n",
       "      <td>fishy</td>\n",
       "      <td>buff</td>\n",
       "    </tr>\n",
       "    <tr>\n",
       "      <th>8122</th>\n",
       "      <td>edible</td>\n",
       "      <td>convex</td>\n",
       "      <td>smooth</td>\n",
       "      <td>brown</td>\n",
       "      <td>none</td>\n",
       "      <td>yellow</td>\n",
       "    </tr>\n",
       "  </tbody>\n",
       "</table>\n",
       "<p>8123 rows × 6 columns</p>\n",
       "</div>"
      ],
      "text/plain": [
       "      poisonous cap-shape cap-surface cap-color     odor gill-color\n",
       "0        edible    convex      smooth    yellow   almond      black\n",
       "1        edible      bell      smooth     white    anise      brown\n",
       "2     poisonous    convex       scaly     white  pungent      brown\n",
       "3        edible    convex      smooth      gray     none      black\n",
       "4        edible    convex       scaly    yellow   almond      brown\n",
       "...         ...       ...         ...       ...      ...        ...\n",
       "8118     edible   knobbed      smooth     brown     none     yellow\n",
       "8119     edible    convex      smooth     brown     none     yellow\n",
       "8120     edible      flat      smooth     brown     none      brown\n",
       "8121  poisonous   knobbed       scaly     brown    fishy       buff\n",
       "8122     edible    convex      smooth     brown     none     yellow\n",
       "\n",
       "[8123 rows x 6 columns]"
      ]
     },
     "execution_count": 11,
     "metadata": {},
     "output_type": "execute_result"
    }
   ],
   "source": [
    "subset"
   ]
  },
  {
   "cell_type": "markdown",
   "metadata": {
    "id": "D7E_QAqEordc"
   },
   "source": [
    "# 4\n",
    "\n",
    "**Replace the codes used in the data with numeric values—for example, in the first “target” column, “e” might become 0 and “p” might become 1. This is because your downstream processing in Project 4 using scikit-learn requires that values be stored as numerics.**"
   ]
  },
  {
   "cell_type": "markdown",
   "metadata": {
    "id": "rnSOMrsPov0b"
   },
   "source": [
    "Using labelencoder, I will assign a code to each category of each attribute."
   ]
  },
  {
   "cell_type": "code",
   "execution_count": 12,
   "metadata": {
    "colab": {
     "base_uri": "https://localhost:8080/",
     "height": 402
    },
    "id": "uXqzfJ7bUKRQ",
    "outputId": "f394c139-6df6-4f04-db7b-e572b1f8924e"
   },
   "outputs": [
    {
     "data": {
      "text/html": [
       "<div>\n",
       "<style scoped>\n",
       "    .dataframe tbody tr th:only-of-type {\n",
       "        vertical-align: middle;\n",
       "    }\n",
       "\n",
       "    .dataframe tbody tr th {\n",
       "        vertical-align: top;\n",
       "    }\n",
       "\n",
       "    .dataframe thead th {\n",
       "        text-align: right;\n",
       "    }\n",
       "</style>\n",
       "<table border=\"1\" class=\"dataframe\">\n",
       "  <thead>\n",
       "    <tr style=\"text-align: right;\">\n",
       "      <th></th>\n",
       "      <th>poisonous</th>\n",
       "      <th>cap-shape</th>\n",
       "      <th>cap-surface</th>\n",
       "      <th>cap-color</th>\n",
       "      <th>odor</th>\n",
       "      <th>gill-color</th>\n",
       "      <th>poisonous_cat</th>\n",
       "      <th>cap-shape_cat</th>\n",
       "      <th>cap-surface_cat</th>\n",
       "      <th>cap-color_cat</th>\n",
       "      <th>odor_cat</th>\n",
       "      <th>gill-color_cat</th>\n",
       "    </tr>\n",
       "  </thead>\n",
       "  <tbody>\n",
       "    <tr>\n",
       "      <th>0</th>\n",
       "      <td>edible</td>\n",
       "      <td>convex</td>\n",
       "      <td>smooth</td>\n",
       "      <td>yellow</td>\n",
       "      <td>almond</td>\n",
       "      <td>black</td>\n",
       "      <td>0</td>\n",
       "      <td>2</td>\n",
       "      <td>3</td>\n",
       "      <td>9</td>\n",
       "      <td>0</td>\n",
       "      <td>0</td>\n",
       "    </tr>\n",
       "    <tr>\n",
       "      <th>1</th>\n",
       "      <td>edible</td>\n",
       "      <td>bell</td>\n",
       "      <td>smooth</td>\n",
       "      <td>white</td>\n",
       "      <td>anise</td>\n",
       "      <td>brown</td>\n",
       "      <td>0</td>\n",
       "      <td>0</td>\n",
       "      <td>3</td>\n",
       "      <td>8</td>\n",
       "      <td>1</td>\n",
       "      <td>1</td>\n",
       "    </tr>\n",
       "    <tr>\n",
       "      <th>2</th>\n",
       "      <td>poisonous</td>\n",
       "      <td>convex</td>\n",
       "      <td>scaly</td>\n",
       "      <td>white</td>\n",
       "      <td>pungent</td>\n",
       "      <td>brown</td>\n",
       "      <td>1</td>\n",
       "      <td>2</td>\n",
       "      <td>2</td>\n",
       "      <td>8</td>\n",
       "      <td>7</td>\n",
       "      <td>1</td>\n",
       "    </tr>\n",
       "    <tr>\n",
       "      <th>3</th>\n",
       "      <td>edible</td>\n",
       "      <td>convex</td>\n",
       "      <td>smooth</td>\n",
       "      <td>gray</td>\n",
       "      <td>none</td>\n",
       "      <td>black</td>\n",
       "      <td>0</td>\n",
       "      <td>2</td>\n",
       "      <td>3</td>\n",
       "      <td>3</td>\n",
       "      <td>6</td>\n",
       "      <td>0</td>\n",
       "    </tr>\n",
       "    <tr>\n",
       "      <th>4</th>\n",
       "      <td>edible</td>\n",
       "      <td>convex</td>\n",
       "      <td>scaly</td>\n",
       "      <td>yellow</td>\n",
       "      <td>almond</td>\n",
       "      <td>brown</td>\n",
       "      <td>0</td>\n",
       "      <td>2</td>\n",
       "      <td>2</td>\n",
       "      <td>9</td>\n",
       "      <td>0</td>\n",
       "      <td>1</td>\n",
       "    </tr>\n",
       "    <tr>\n",
       "      <th>...</th>\n",
       "      <td>...</td>\n",
       "      <td>...</td>\n",
       "      <td>...</td>\n",
       "      <td>...</td>\n",
       "      <td>...</td>\n",
       "      <td>...</td>\n",
       "      <td>...</td>\n",
       "      <td>...</td>\n",
       "      <td>...</td>\n",
       "      <td>...</td>\n",
       "      <td>...</td>\n",
       "      <td>...</td>\n",
       "    </tr>\n",
       "    <tr>\n",
       "      <th>8118</th>\n",
       "      <td>edible</td>\n",
       "      <td>knobbed</td>\n",
       "      <td>smooth</td>\n",
       "      <td>brown</td>\n",
       "      <td>none</td>\n",
       "      <td>yellow</td>\n",
       "      <td>0</td>\n",
       "      <td>4</td>\n",
       "      <td>3</td>\n",
       "      <td>0</td>\n",
       "      <td>6</td>\n",
       "      <td>11</td>\n",
       "    </tr>\n",
       "    <tr>\n",
       "      <th>8119</th>\n",
       "      <td>edible</td>\n",
       "      <td>convex</td>\n",
       "      <td>smooth</td>\n",
       "      <td>brown</td>\n",
       "      <td>none</td>\n",
       "      <td>yellow</td>\n",
       "      <td>0</td>\n",
       "      <td>2</td>\n",
       "      <td>3</td>\n",
       "      <td>0</td>\n",
       "      <td>6</td>\n",
       "      <td>11</td>\n",
       "    </tr>\n",
       "    <tr>\n",
       "      <th>8120</th>\n",
       "      <td>edible</td>\n",
       "      <td>flat</td>\n",
       "      <td>smooth</td>\n",
       "      <td>brown</td>\n",
       "      <td>none</td>\n",
       "      <td>brown</td>\n",
       "      <td>0</td>\n",
       "      <td>3</td>\n",
       "      <td>3</td>\n",
       "      <td>0</td>\n",
       "      <td>6</td>\n",
       "      <td>1</td>\n",
       "    </tr>\n",
       "    <tr>\n",
       "      <th>8121</th>\n",
       "      <td>poisonous</td>\n",
       "      <td>knobbed</td>\n",
       "      <td>scaly</td>\n",
       "      <td>brown</td>\n",
       "      <td>fishy</td>\n",
       "      <td>buff</td>\n",
       "      <td>1</td>\n",
       "      <td>4</td>\n",
       "      <td>2</td>\n",
       "      <td>0</td>\n",
       "      <td>3</td>\n",
       "      <td>2</td>\n",
       "    </tr>\n",
       "    <tr>\n",
       "      <th>8122</th>\n",
       "      <td>edible</td>\n",
       "      <td>convex</td>\n",
       "      <td>smooth</td>\n",
       "      <td>brown</td>\n",
       "      <td>none</td>\n",
       "      <td>yellow</td>\n",
       "      <td>0</td>\n",
       "      <td>2</td>\n",
       "      <td>3</td>\n",
       "      <td>0</td>\n",
       "      <td>6</td>\n",
       "      <td>11</td>\n",
       "    </tr>\n",
       "  </tbody>\n",
       "</table>\n",
       "<p>8123 rows × 12 columns</p>\n",
       "</div>"
      ],
      "text/plain": [
       "      poisonous cap-shape cap-surface cap-color     odor gill-color  \\\n",
       "0        edible    convex      smooth    yellow   almond      black   \n",
       "1        edible      bell      smooth     white    anise      brown   \n",
       "2     poisonous    convex       scaly     white  pungent      brown   \n",
       "3        edible    convex      smooth      gray     none      black   \n",
       "4        edible    convex       scaly    yellow   almond      brown   \n",
       "...         ...       ...         ...       ...      ...        ...   \n",
       "8118     edible   knobbed      smooth     brown     none     yellow   \n",
       "8119     edible    convex      smooth     brown     none     yellow   \n",
       "8120     edible      flat      smooth     brown     none      brown   \n",
       "8121  poisonous   knobbed       scaly     brown    fishy       buff   \n",
       "8122     edible    convex      smooth     brown     none     yellow   \n",
       "\n",
       "      poisonous_cat  cap-shape_cat  cap-surface_cat  cap-color_cat  odor_cat  \\\n",
       "0                 0              2                3              9         0   \n",
       "1                 0              0                3              8         1   \n",
       "2                 1              2                2              8         7   \n",
       "3                 0              2                3              3         6   \n",
       "4                 0              2                2              9         0   \n",
       "...             ...            ...              ...            ...       ...   \n",
       "8118              0              4                3              0         6   \n",
       "8119              0              2                3              0         6   \n",
       "8120              0              3                3              0         6   \n",
       "8121              1              4                2              0         3   \n",
       "8122              0              2                3              0         6   \n",
       "\n",
       "      gill-color_cat  \n",
       "0                  0  \n",
       "1                  1  \n",
       "2                  1  \n",
       "3                  0  \n",
       "4                  1  \n",
       "...              ...  \n",
       "8118              11  \n",
       "8119              11  \n",
       "8120               1  \n",
       "8121               2  \n",
       "8122              11  \n",
       "\n",
       "[8123 rows x 12 columns]"
      ]
     },
     "execution_count": 12,
     "metadata": {},
     "output_type": "execute_result"
    }
   ],
   "source": [
    "# creating instance of labelencoder\n",
    "labelencoder = LabelEncoder()\n",
    "# Assigning numerical values and storing in another column\n",
    "subset['poisonous_cat'] = labelencoder.fit_transform(subset['poisonous'])\n",
    "subset['cap-shape_cat'] = labelencoder.fit_transform(subset['cap-shape'])\n",
    "subset['cap-surface_cat'] = labelencoder.fit_transform(subset['cap-surface'])\n",
    "subset['cap-color_cat'] = labelencoder.fit_transform(subset['cap-color'])\n",
    "subset['odor_cat'] = labelencoder.fit_transform(subset['odor'])\n",
    "subset['gill-color_cat'] = labelencoder.fit_transform(subset['gill-color'])\n",
    "subset"
   ]
  },
  {
   "cell_type": "markdown",
   "metadata": {
    "id": "uc-xr_EOpAee"
   },
   "source": [
    "# 5\n",
    "\n",
    "**Perform exploratory data analysis: show the distribution of data for each of the columns you selected, and show scatterplots for edible/poisonous vs. odor as well as the other column that you selected.**"
   ]
  },
  {
   "cell_type": "code",
   "execution_count": 13,
   "metadata": {
    "colab": {
     "base_uri": "https://localhost:8080/",
     "height": 331
    },
    "id": "jmjp_DEylbSl",
    "outputId": "d62c479a-7f6a-4f53-d1c7-2d9c20c56b64"
   },
   "outputs": [
    {
     "data": {
      "image/png": "[encoded data removed]",
      "text/plain": [
       "<Figure size 432x288 with 1 Axes>"
      ]
     },
     "metadata": {
      "needs_background": "light"
     },
     "output_type": "display_data"
    }
   ],
   "source": [
    "sns.scatterplot(\n",
    "    x='poisonous',\n",
    "    y='odor',\n",
    "    hue = 'poisonous',\n",
    "    palette=['blue','red'],\n",
    "    data=subset)\n",
    "plt.xticks(rotation=90)\n",
    "plt.legend(loc='upper center');"
   ]
  },
  {
   "cell_type": "markdown",
   "metadata": {
    "id": "8KV76erJqTlm"
   },
   "source": [
    "There is a correlation among poisonous mushrooms with mal odor. The chart below shows this same relationship with value counts."
   ]
  },
  {
   "cell_type": "code",
   "execution_count": 14,
   "metadata": {
    "colab": {
     "base_uri": "https://localhost:8080/",
     "height": 424
    },
    "id": "0oWDPODpcBlD",
    "outputId": "3c643c6f-084e-45ab-9224-146488e51d55"
   },
   "outputs": [
    {
     "data": {
      "image/png": "[encoded data removed]",
      "text/plain": [
       "<Figure size 446.375x360 with 1 Axes>"
      ]
     },
     "metadata": {
      "needs_background": "light"
     },
     "output_type": "display_data"
    }
   ],
   "source": [
    "sns.catplot(x =\"odor\", hue =\"poisonous\", \n",
    "kind =\"count\", data = subset, palette=['blue','red'])\n",
    "plt.xticks(rotation=90);"
   ]
  },
  {
   "cell_type": "markdown",
   "metadata": {
    "id": "zQjv7bswqwts"
   },
   "source": [
    "Show below, the attributes I explore do not, as strongly, indicate poisonous or edible."
   ]
  },
  {
   "cell_type": "code",
   "execution_count": 15,
   "metadata": {
    "colab": {
     "base_uri": "https://localhost:8080/",
     "height": 331
    },
    "id": "NQpdNrfqcsYO",
    "outputId": "f4b2436a-d2cf-4f92-cd66-f8170dbbc271"
   },
   "outputs": [
    {
     "data": {
      "image/png": "[encoded data removed]",
      "text/plain": [
       "<Figure size 432x288 with 1 Axes>"
      ]
     },
     "metadata": {
      "needs_background": "light"
     },
     "output_type": "display_data"
    }
   ],
   "source": [
    "sns.scatterplot(\n",
    "    x='poisonous',\n",
    "    y='cap-shape',\n",
    "    hue = 'poisonous',\n",
    "    palette=['blue','red'],\n",
    "    data=subset)\n",
    "plt.xticks(rotation=90)\n",
    "plt.legend(loc='upper center');"
   ]
  },
  {
   "cell_type": "markdown",
   "metadata": {
    "id": "eROCdASyraDi"
   },
   "source": [
    "Shown above, a sunken cap shape seems to indicate edible. Shown below, grooves in the cap surface seems to indicate poisonous."
   ]
  },
  {
   "cell_type": "code",
   "execution_count": 16,
   "metadata": {
    "colab": {
     "base_uri": "https://localhost:8080/",
     "height": 331
    },
    "id": "mD5lqqHmc-Vh",
    "outputId": "687717ee-45b3-4957-cb36-5fdd967931e6"
   },
   "outputs": [
    {
     "data": {
      "image/png": "[encoded data removed]",
      "text/plain": [
       "<Figure size 432x288 with 1 Axes>"
      ]
     },
     "metadata": {
      "needs_background": "light"
     },
     "output_type": "display_data"
    }
   ],
   "source": [
    "sns.scatterplot(\n",
    "    x='poisonous',\n",
    "    y='cap-surface',\n",
    "    hue = 'poisonous',\n",
    "    palette=['blue','red'],\n",
    "    data=subset)\n",
    "plt.xticks(rotation=90)\n",
    "plt.legend(loc='upper center');"
   ]
  },
  {
   "cell_type": "code",
   "execution_count": 17,
   "metadata": {
    "colab": {
     "base_uri": "https://localhost:8080/",
     "height": 331
    },
    "id": "1SWgfiehdK7Y",
    "outputId": "64b35d62-509c-42a2-ec58-dbef18af8b81"
   },
   "outputs": [
    {
     "data": {
      "image/png": "[encoded data removed]",
      "text/plain": [
       "<Figure size 432x288 with 1 Axes>"
      ]
     },
     "metadata": {
      "needs_background": "light"
     },
     "output_type": "display_data"
    }
   ],
   "source": [
    "sns.scatterplot(\n",
    "    x='poisonous',\n",
    "    y='cap-color',\n",
    "    hue = 'poisonous',\n",
    "    palette=['blue','red'],\n",
    "    data=subset)\n",
    "plt.xticks(rotation=90)\n",
    "plt.legend(loc='upper center');"
   ]
  },
  {
   "cell_type": "markdown",
   "metadata": {
    "id": "OKSK6jh7sBDw"
   },
   "source": [
    "Shown above, cap color is not a reliable indicator, except in the case of purple caps, which appear to indicate edible. Shown below, red gills appear to indicate edible, and buff and green gills indicate poisonous."
   ]
  },
  {
   "cell_type": "code",
   "execution_count": 18,
   "metadata": {
    "colab": {
     "base_uri": "https://localhost:8080/",
     "height": 331
    },
    "id": "T83hZvLKdT5Q",
    "outputId": "847c8442-f4fd-443c-88e0-4f3279620b67"
   },
   "outputs": [
    {
     "data": {
      "image/png": "[encoded data removed]",
      "text/plain": [
       "<Figure size 432x288 with 1 Axes>"
      ]
     },
     "metadata": {
      "needs_background": "light"
     },
     "output_type": "display_data"
    }
   ],
   "source": [
    "sns.scatterplot(\n",
    "    x='poisonous',\n",
    "    y='gill-color',\n",
    "    hue = 'poisonous',\n",
    "    palette=['blue','red'],\n",
    "    data=subset)\n",
    "plt.xticks(rotation=90)\n",
    "plt.legend(loc='upper center');"
   ]
  },
  {
   "cell_type": "markdown",
   "metadata": {
    "id": "dDmo3xdSsjI4"
   },
   "source": [
    "# 6\n",
    "\n",
    "**Include some text describing your preliminary conclusions about whether either of the other columns could be helpful in predicting if a specific mushroom is edible or poisonous.**"
   ]
  },
  {
   "cell_type": "markdown",
   "metadata": {
    "id": "tdIkeoRfs67I"
   },
   "source": [
    "It might be helpful to consider a combination of attributes as a method of determining edibility. In the chart that shows the relationship between odor and edibility, the absence of odor did not indicate edibility. However, shown below it appears that unless the gills are green, the absence of odor suggests edibility. "
   ]
  },
  {
   "cell_type": "code",
   "execution_count": 19,
   "metadata": {
    "colab": {
     "base_uri": "https://localhost:8080/",
     "height": 323
    },
    "id": "DSCn8bApY21B",
    "outputId": "89ac9b43-b2e1-4671-e4d7-d48ca5143d33"
   },
   "outputs": [
    {
     "data": {
      "image/png": "[encoded data removed]",
      "text/plain": [
       "<Figure size 432x288 with 1 Axes>"
      ]
     },
     "metadata": {
      "needs_background": "light"
     },
     "output_type": "display_data"
    }
   ],
   "source": [
    "sns.scatterplot(\n",
    "    x='odor',\n",
    "    y='gill-color',\n",
    "    hue='poisonous',\n",
    "    palette=['blue','red'],\n",
    "    data=subset)\n",
    "plt.xticks(rotation=90);"
   ]
  }
 ],
 "metadata": {
  "colab": {
   "collapsed_sections": [],
   "name": "IS362_Assignment12.ipynb",
   "provenance": []
  },
  "kernelspec": {
   "display_name": "Python 3",
   "language": "python",
   "name": "python3"
  },
  "language_info": {
   "codemirror_mode": {
    "name": "ipython",
    "version": 3
   },
   "file_extension": ".py",
   "mimetype": "text/x-python",
   "name": "python",
   "nbconvert_exporter": "python",
   "pygments_lexer": "ipython3",
   "version": "3.8.6"
  }
 },
 "nbformat": 4,
 "nbformat_minor": 1
}
